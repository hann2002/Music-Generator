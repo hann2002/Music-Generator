{
 "cells": [
  {
   "cell_type": "code",
   "execution_count": 3,
   "metadata": {},
   "outputs": [],
   "source": [
    "import random\n",
    "import mido\n",
    "from mido import MidiFile, MidiTrack, Message\n",
    "\n",
    "def generate_random_midi(file_name, num_notes=50):\n",
    "    mid = MidiFile()\n",
    "    track = MidiTrack()\n",
    "    mid.tracks.append(track)\n",
    "\n",
    "    for _ in range(num_notes):\n",
    "        note = random.randint(21, 108)  # Random note between MIDI note 21, 108\n",
    "        velocity = random.randint(40, 100)  # Random velocity\n",
    "        time = random.uniform(0.1, 1)  # Random time interval\n",
    "\n",
    "        on = Message('note_on', note=note, velocity=velocity)\n",
    "        off = Message('note_off', note=note, velocity=velocity, time=int(time * mid.ticks_per_beat))\n",
    "\n",
    "        track.append(on)\n",
    "        track.append(off)\n",
    "\n",
    "    mid.save(file_name)\n",
    "\n",
    "if __name__ == '__main__':\n",
    "    for i in range(3):\n",
    "        generate_random_midi(\"random_\"+str(i)+\".mid\")\n"
   ]
  }
 ],
 "metadata": {
  "kernelspec": {
   "display_name": "music",
   "language": "python",
   "name": "python3"
  },
  "language_info": {
   "codemirror_mode": {
    "name": "ipython",
    "version": 3
   },
   "file_extension": ".py",
   "mimetype": "text/x-python",
   "name": "python",
   "nbconvert_exporter": "python",
   "pygments_lexer": "ipython3",
   "version": "3.11.4"
  },
  "orig_nbformat": 4
 },
 "nbformat": 4,
 "nbformat_minor": 2
}
